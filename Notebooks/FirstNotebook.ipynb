{
 "cells": [
  {
   "cell_type": "code",
   "execution_count": 1,
   "metadata": {},
   "outputs": [
    {
     "name": "stdout",
     "output_type": "stream",
     "text": [
      "Hello World\n"
     ]
    }
   ],
   "source": [
    "print(\"Hello World\")"
   ]
  },
  {
   "cell_type": "code",
   "execution_count": 2,
   "metadata": {},
   "outputs": [
    {
     "data": {
      "text/plain": [
       "'/Users/sharathsamala/jupyterStuff/PythonForDataAnalysis/Notebooks'"
      ]
     },
     "execution_count": 2,
     "metadata": {},
     "output_type": "execute_result"
    }
   ],
   "source": [
    "%pwd"
   ]
  },
  {
   "cell_type": "code",
   "execution_count": 3,
   "metadata": {},
   "outputs": [],
   "source": [
    "an_apple = 27"
   ]
  },
  {
   "cell_type": "code",
   "execution_count": 4,
   "metadata": {},
   "outputs": [],
   "source": [
    "an_example = 42"
   ]
  },
  {
   "cell_type": "code",
   "execution_count": 6,
   "metadata": {},
   "outputs": [
    {
     "data": {
      "text/plain": [
       "27"
      ]
     },
     "execution_count": 6,
     "metadata": {},
     "output_type": "execute_result"
    }
   ],
   "source": [
    "an_apple"
   ]
  },
  {
   "cell_type": "code",
   "execution_count": 7,
   "metadata": {},
   "outputs": [],
   "source": [
    "b = [1,3,5]"
   ]
  },
  {
   "cell_type": "code",
   "execution_count": 10,
   "metadata": {},
   "outputs": [
    {
     "data": {
      "text/plain": [
       "<function list.count>"
      ]
     },
     "execution_count": 10,
     "metadata": {},
     "output_type": "execute_result"
    }
   ],
   "source": [
    "b.count"
   ]
  },
  {
   "cell_type": "code",
   "execution_count": 11,
   "metadata": {},
   "outputs": [],
   "source": [
    "import datetime"
   ]
  },
  {
   "cell_type": "code",
   "execution_count": 12,
   "metadata": {},
   "outputs": [
    {
     "data": {
      "text/plain": [
       "9999"
      ]
     },
     "execution_count": 12,
     "metadata": {},
     "output_type": "execute_result"
    }
   ],
   "source": [
    "datetime.MAXYEAR"
   ]
  },
  {
   "cell_type": "code",
   "execution_count": 14,
   "metadata": {},
   "outputs": [],
   "source": [
    "path = '/Users/sharathsamala/jupyterStuff/PythonForDataAnalysis/Notebooks/Untitled.ipynb'"
   ]
  },
  {
   "cell_type": "code",
   "execution_count": 30,
   "metadata": {},
   "outputs": [],
   "source": [
    "def func_with_keywords(abra=1, abbra=2, abbbra=3):\n",
    "    '''\n",
    "    This is to return 3 variables which \n",
    "    can be overwritten Ex: abra = 1\n",
    "    '''\n",
    "    return abra, abbra, abbbra"
   ]
  },
  {
   "cell_type": "code",
   "execution_count": 25,
   "metadata": {},
   "outputs": [
    {
     "data": {
      "text/plain": [
       "(1, 2, 5)"
      ]
     },
     "execution_count": 25,
     "metadata": {},
     "output_type": "execute_result"
    }
   ],
   "source": [
    "func_with_keywords(abbbra=5)"
   ]
  },
  {
   "cell_type": "code",
   "execution_count": 20,
   "metadata": {},
   "outputs": [],
   "source": [
    "b?"
   ]
  },
  {
   "cell_type": "code",
   "execution_count": 21,
   "metadata": {},
   "outputs": [],
   "source": [
    "path?"
   ]
  },
  {
   "cell_type": "code",
   "execution_count": 23,
   "metadata": {},
   "outputs": [],
   "source": [
    "an_apple?"
   ]
  },
  {
   "cell_type": "code",
   "execution_count": 26,
   "metadata": {},
   "outputs": [],
   "source": [
    "print?"
   ]
  },
  {
   "cell_type": "code",
   "execution_count": 31,
   "metadata": {},
   "outputs": [],
   "source": [
    "func_with_keywords?"
   ]
  },
  {
   "cell_type": "code",
   "execution_count": 33,
   "metadata": {},
   "outputs": [],
   "source": [
    "def add_two_numbers(a, b):\n",
    "    \"\"\"\n",
    "    Add two numbers together\n",
    "    \n",
    "    Returns\n",
    "    -------\n",
    "    the sum: type of arguments\n",
    "    \"\"\"\n",
    "    return a + b"
   ]
  },
  {
   "cell_type": "code",
   "execution_count": 37,
   "metadata": {},
   "outputs": [],
   "source": [
    "add_two_numbers??"
   ]
  },
  {
   "cell_type": "code",
   "execution_count": 40,
   "metadata": {},
   "outputs": [],
   "source": [
    "%run run_command_script_test.py"
   ]
  },
  {
   "cell_type": "code",
   "execution_count": 42,
   "metadata": {},
   "outputs": [
    {
     "data": {
      "text/plain": [
       "1.4666666666666666"
      ]
     },
     "execution_count": 42,
     "metadata": {},
     "output_type": "execute_result"
    }
   ],
   "source": [
    "result"
   ]
  },
  {
   "cell_type": "code",
   "execution_count": null,
   "metadata": {},
   "outputs": [],
   "source": [
    "# %load run_command_script_test.py\n",
    "def f(x, y, z):\n",
    "    return (x + y)/z\n",
    "a = 5\n",
    "b = 6\n",
    "c = 7.5\n",
    "\n",
    "result = f(a, b, c)\n"
   ]
  },
  {
   "cell_type": "code",
   "execution_count": 44,
   "metadata": {},
   "outputs": [],
   "source": [
    "x =5\n",
    "y = 7\n",
    "if x > 5:\n",
    "    x += 1\n",
    "    \n",
    "    y = 8"
   ]
  },
  {
   "cell_type": "code",
   "execution_count": 50,
   "metadata": {},
   "outputs": [
    {
     "name": "stdout",
     "output_type": "stream",
     "text": [
      "43.7 ns ± 0.394 ns per loop (mean ± std. dev. of 7 runs, 10000000 loops each)\n"
     ]
    }
   ],
   "source": [
    "%timeit x+y"
   ]
  },
  {
   "cell_type": "code",
   "execution_count": 51,
   "metadata": {},
   "outputs": [],
   "source": [
    "%debug?"
   ]
  },
  {
   "cell_type": "code",
   "execution_count": 52,
   "metadata": {},
   "outputs": [],
   "source": [
    "%quickref"
   ]
  },
  {
   "cell_type": "code",
   "execution_count": 53,
   "metadata": {},
   "outputs": [
    {
     "name": "stdout",
     "output_type": "stream",
     "text": [
      "print(\"Hello World\")\n",
      "%pwd\n",
      "an_apple = 27\n",
      "an_example = 42\n",
      "an\n",
      "an_apple\n",
      "b = [1,3,5]\n",
      "b.count\n",
      "b.count()\n",
      "b.count\n",
      "import datetime\n",
      "datetime.MAXYEAR\n",
      "/Users/sharathsamala/jupyterStuff/PythonForDataAnalysis/\n",
      "path = '/Users/sharathsamala/jupyterStuff/PythonForDataAnalysis/Notebooks/Untitled.ipynb'\n",
      "%run\n",
      "%run Untitled.ipynb\n",
      "%run Untitled.ipynb\n",
      "def func_with_keywords(abra=1, abbra=2, abbbra=3):\n",
      "    return abra, abbra, abbbra\n",
      "func_with_keywords(abbbra=5)\n",
      "b?\n",
      "path?\n",
      "an_apple?\n",
      "an_apple?\n",
      "def func_with_keywords(abra=1, abbra=2, abbbra=3):\n",
      "    return abra, abbra, abbbra\n",
      "func_with_keywords(abbbra=5)\n",
      "print?\n",
      "func_with_keywords?\n",
      "def func_with_keywords(abra=1, abbra=2, abbbra=3):\n",
      "    '''This is to return 3 variables which can be overwritten'''\n",
      "    return abra, abbra, abbbra\n",
      "func_with_keywords?\n",
      "def func_with_keywords(abra=1, abbra=2, abbbra=3):\n",
      "    '''\n",
      "    This is to return 3 variables which \n",
      "    can be overwritten Ex: abra = 1\n",
      "    '''\n",
      "    return abra, abbra, abbbra\n",
      "func_with_keywords?\n",
      "def add_two_numbers(a, b):\n",
      "    \"\"\"\n",
      "    Add two numbers together\n",
      "    \n",
      "    Returns\n",
      "    -------\n",
      "    the sum: type of arguments\n",
      "    \"\"\"\n",
      "    return a+b\n",
      "def add_two_numbers(a, b):\n",
      "    \"\"\"\n",
      "    Add two numbers together\n",
      "    \n",
      "    Returns\n",
      "    -------\n",
      "    the sum: type of arguments\n",
      "    \"\"\"\n",
      "    return a + b\n",
      "add_two_numbers?\n",
      "add_two_numbers??\n",
      "print??\n",
      "add_two_numbers??\n",
      "list?\n",
      "list??\n",
      "%run run_command_script_test.py\n",
      "c\n",
      "result\n",
      "%load run_command_script_test.py\n",
      "x =5\n",
      "y = 7\n",
      "if x > 5:\n",
      "    x += 1\n",
      "    \n",
      "    y = 8\n",
      "%paste\n",
      "%paste\n",
      "%paste\n",
      "%paste\n",
      "x =5\n",
      "y = 7\n",
      "if x > 5:\n",
      "    x += 1\n",
      "    \n",
      "    y = 8\n",
      "%pastebin\n",
      "%timeit x+y\n",
      "%debug?\n",
      "%quickref\n",
      "%hist\n"
     ]
    }
   ],
   "source": [
    "%hist"
   ]
  },
  {
   "cell_type": "code",
   "execution_count": 56,
   "metadata": {},
   "outputs": [
    {
     "name": "stdout",
     "output_type": "stream",
     "text": [
      "Variable             Type        Data/Info\n",
      "------------------------------------------\n",
      "a                    int         5\n",
      "add_two_numbers      function    <function add_two_numbers at 0x1106f8488>\n",
      "an_apple             int         27\n",
      "an_example           int         42\n",
      "b                    int         6\n",
      "c                    float       7.5\n",
      "datetime             module      <module 'datetime' from '<...>b/python3.6/datetime.py'>\n",
      "f                    function    <function f at 0x1106d4d90>\n",
      "func_with_keywords   function    <function func_with_keywords at 0x1106f8048>\n",
      "path                 str         /Users/sharathsamala/jupy<...>/Notebooks/Untitled.ipynb\n",
      "result               float       1.4666666666666666\n",
      "x                    int         5\n",
      "y                    int         7\n"
     ]
    }
   ],
   "source": [
    "%whos"
   ]
  },
  {
   "cell_type": "code",
   "execution_count": 3,
   "metadata": {},
   "outputs": [],
   "source": [
    "%magic"
   ]
  },
  {
   "cell_type": "code",
   "execution_count": 7,
   "metadata": {},
   "outputs": [],
   "source": [
    "%matplotlib inline\n",
    "import numpy as np"
   ]
  },
  {
   "cell_type": "code",
   "execution_count": 10,
   "metadata": {},
   "outputs": [
    {
     "data": {
      "text/plain": [
       "[<matplotlib.lines.Line2D at 0x123abae80>]"
      ]
     },
     "execution_count": 10,
     "metadata": {},
     "output_type": "execute_result"
    },
    {
     "data": {
      "image/png": "[encoded data removed]",
      "text/plain": [
       "<Figure size 432x288 with 1 Axes>"
      ]
     },
     "metadata": {},
     "output_type": "display_data"
    }
   ],
   "source": [
    "import matplotlib.pyplot as plt\n",
    "plt.plot(np.random.randn(50).cumsum())"
   ]
  },
  {
   "cell_type": "code",
   "execution_count": null,
   "metadata": {},
   "outputs": [],
   "source": []
  }
 ],
 "metadata": {
  "kernelspec": {
   "display_name": "Python 3",
   "language": "python",
   "name": "python3"
  },
  "language_info": {
   "codemirror_mode": {
    "name": "ipython",
    "version": 3
   },
   "file_extension": ".py",
   "mimetype": "text/x-python",
   "name": "python",
   "nbconvert_exporter": "python",
   "pygments_lexer": "ipython3",
   "version": "3.6.8"
  }
 },
 "nbformat": 4,
 "nbformat_minor": 2
}
